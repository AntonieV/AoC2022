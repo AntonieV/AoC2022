{
 "cells": [
  {
   "cell_type": "code",
   "execution_count": 1,
   "id": "c595613d",
   "metadata": {},
   "outputs": [
    {
     "name": "stdout",
     "output_type": "stream",
     "text": [
      "Elf 106 carrying 74711 calories.\n"
     ]
    }
   ],
   "source": [
    "# https://adventofcode.com/2022/day/1\n",
    "# AoC 2022 - 1_1\n",
    "\n",
    "input_data = \"aoc2022_data/aoc2022_1.txt\"\n",
    "\n",
    "cal_max = 0\n",
    "elf_max = 0\n",
    "    \n",
    "with open(input_data, 'r') as f_in:\n",
    "    lines = f_in.read()\n",
    "    elves=lines.split('\\n\\n')\n",
    "    num_elves = len(elves)\n",
    "    for idx, elf in enumerate(elves):\n",
    "        elf = elf.split('\\n')\n",
    "        items = [int(item) for item in elf if item != '']        \n",
    "        cal_sum = sum(items)\n",
    "        if cal_sum > cal_max:\n",
    "            cal_max = cal_sum\n",
    "            elf_max = idx\n",
    "print(f\"Elf {elf_max} carrying {cal_max} calories.\")\n"
   ]
  },
  {
   "cell_type": "code",
   "execution_count": 2,
   "id": "88e2bb32",
   "metadata": {},
   "outputs": [
    {
     "name": "stdout",
     "output_type": "stream",
     "text": [
      "The top three elves carrying 209481 calories.\n"
     ]
    }
   ],
   "source": [
    "# AoC 2022 - 1_2\n",
    "\n",
    "input_data = \"aoc2022_data/aoc2022_1.txt\"\n",
    "\n",
    "cal_max = []\n",
    "    \n",
    "with open(input_data, 'r') as f_in:\n",
    "    lines = f_in.read()\n",
    "    elves=lines.split('\\n\\n')\n",
    "    num_elves = len(elves)\n",
    "    for idx, elf in enumerate(elves):\n",
    "        elf = elf.split('\\n')\n",
    "        items = [int(item) for item in elf if item != '']        \n",
    "        cal_sum = sum(items)\n",
    "        if len(cal_max) < 3:\n",
    "            cal_max.append(cal_sum)\n",
    "            cal_max = sorted(cal_max)\n",
    "        else:\n",
    "            if cal_sum > cal_max[0]:\n",
    "                cal_max = [cal_sum] + cal_max[1:]\n",
    "                cal_max = sorted(cal_max)\n",
    "print(f\"The top three elves carrying {sum(cal_max)} calories.\")\n"
   ]
  },
  {
   "cell_type": "code",
   "execution_count": 50,
   "id": "052040d7",
   "metadata": {},
   "outputs": [
    {
     "name": "stdout",
     "output_type": "stream",
     "text": [
      "Total score: 15691.\n"
     ]
    }
   ],
   "source": [
    "# https://adventofcode.com/2022/day/2\n",
    "# AoC 2022 - 2_1\n",
    "\n",
    "input_data = \"aoc2022_data/aoc2022_2.txt\"\n",
    "opponent = ['A', 'B', 'C']\n",
    "# rot0 = draw (rot0 at index = 0 -> idx 0 in round_outcome), \n",
    "# rot1 = win (rot1 at index = 1 in round_outcome) , \n",
    "# rot2 = loss (rot2 at index = 2 in round_outcome)\n",
    "self_alphabet = ['X', 'Y', 'Z']\n",
    "rotations = [0, 1, 2]\n",
    "round_outcome = [3, 6, 0]\n",
    "total_score = 0\n",
    "    \n",
    "with open(input_data, 'r') as f_in:\n",
    "    lines = f_in.readlines()\n",
    "    for line in lines: \n",
    "        line = line.strip('\\n').split(' ')    \n",
    "        opp_call = opponent.index(line[0])\n",
    "        for rot in rotations:\n",
    "            if line[1] == self_alphabet[(opp_call + rot) % len(self_alphabet)]:\n",
    "                res_round = round_outcome[rot]\n",
    "        res_shape = self_alphabet.index(line[1]) + 1\n",
    "        total_score += res_round + res_shape\n",
    "print(f\"Total score: {total_score}.\")\n"
   ]
  },
  {
   "cell_type": "code",
   "execution_count": 49,
   "id": "7cb1378a",
   "metadata": {},
   "outputs": [
    {
     "name": "stdout",
     "output_type": "stream",
     "text": [
      "Total score: 12989.\n"
     ]
    }
   ],
   "source": [
    "# AoC 2022 - 2_2\n",
    "\n",
    "input_data = \"aoc2022_data/aoc2022_2.txt\"\n",
    "opponent = ['A', 'B', 'C']\n",
    "self_alphabet = ['A', 'B', 'C']\n",
    "# 'Y' = draw = rot0 -> index 0, 'Z' = win = rot1 -> index 1, 'X' = lose = rot2 -> index 2\n",
    "rotations = ['Y', 'Z', 'X']\n",
    "round_outcome = [3, 6, 0]\n",
    "total_score = 0\n",
    "\n",
    "with open(input_data, 'r') as f_in:\n",
    "    lines = f_in.readlines()\n",
    "    for line in lines: \n",
    "        line = line.strip('\\n').split(' ')    \n",
    "        opp_call = opponent.index(line[0])\n",
    "        rot = rotations.index(line[1])\n",
    "        res_round = round_outcome[rot]\n",
    "        select = self_alphabet[(opp_call + rot) % len(self_alphabet)]\n",
    "        res_shape = self_alphabet.index(select) + 1\n",
    "        total_score += res_round + res_shape\n",
    "print(f\"Total score: {total_score}.\")\n"
   ]
  },
  {
   "cell_type": "code",
   "execution_count": 48,
   "id": "86592ec4",
   "metadata": {},
   "outputs": [
    {
     "name": "stdout",
     "output_type": "stream",
     "text": [
      "The sum of duplicate items rank is 8085.\n"
     ]
    }
   ],
   "source": [
    "# https://adventofcode.com/2022/day/3\n",
    "# AoC 2022 - 3_1\n",
    "\n",
    "import string\n",
    "\n",
    "input_data = \"aoc2022_data/aoc2022_3.txt\"\n",
    "\n",
    "alphabet_low = list(string.ascii_lowercase)\n",
    "alphabet_up = list(string.ascii_uppercase)\n",
    "priorities = list(range(1,53))\n",
    "ranks = dict(zip(alphabet_low + alphabet_up, priorities))\n",
    "\n",
    "sum_priorities = 0\n",
    "\n",
    "with open(input_data, 'r') as f_in:\n",
    "    lines = f_in.readlines()\n",
    "    for line in lines: \n",
    "        line = line.strip('\\n')\n",
    "        if not len(line) % 2 == 0:\n",
    "            print(\"There are an odd number of items in rucksack!\")\n",
    "        mid_line = int(len(line)/2)\n",
    "        first_compartment = list(line[:mid_line])\n",
    "        second_compartment = list(line[mid_line:])\n",
    "        duplicates = []\n",
    "        for item in first_compartment:\n",
    "            if item in second_compartment:\n",
    "                duplicates.append(ranks[item])\n",
    "        sum_priorities += sum(set(duplicates))\n",
    "print(f\"The sum of duplicate items rank is {sum_priorities}.\")"
   ]
  },
  {
   "cell_type": "code",
   "execution_count": 47,
   "id": "24bde5de",
   "metadata": {},
   "outputs": [
    {
     "name": "stdout",
     "output_type": "stream",
     "text": [
      "The sum of badges items rank is 2515.\n"
     ]
    }
   ],
   "source": [
    "# AoC 2022 - 3_2\n",
    "\n",
    "import string\n",
    "\n",
    "input_data = \"aoc2022_data/aoc2022_3.txt\"\n",
    "\n",
    "alphabet_low = list(string.ascii_lowercase)\n",
    "alphabet_up = list(string.ascii_uppercase)\n",
    "priorities = list(range(1,53))\n",
    "ranks = dict(zip(alphabet_low + alphabet_up, priorities))\n",
    "\n",
    "sum_priorities = 0\n",
    "\n",
    "with open(input_data, 'r') as f_in:\n",
    "    lines = f_in.readlines()\n",
    "    groups = []\n",
    "    for idx in range(0, len(lines), 3):\n",
    "        groups.append(list(lines[idx:idx + 3]))\n",
    "    for group in groups:\n",
    "        duplicates = []\n",
    "        group = [item.strip('\\n') for item in group]\n",
    "        for item in group[0]:\n",
    "            if item in group[1] and item in group[2]:\n",
    "                duplicates.append(ranks[item])\n",
    "        sum_priorities += sum(set(duplicates))\n",
    "print(f\"The sum of badges items rank is {sum_priorities}.\")"
   ]
  },
  {
   "cell_type": "code",
   "execution_count": 32,
   "id": "97a4dba0",
   "metadata": {},
   "outputs": [
    {
     "name": "stdout",
     "output_type": "stream",
     "text": [
      "582 of the assignment pairs overlap fully the other.\n"
     ]
    }
   ],
   "source": [
    "# https://adventofcode.com/2022/day/4\n",
    "# AoC 2022 - 4_1\n",
    "\n",
    "import re\n",
    "\n",
    "\n",
    "def get_input_data(in_file: str):\n",
    "    with open(in_file, 'r') as f_in:\n",
    "        return [_line.strip() for _line in f_in.readlines()]\n",
    "    \n",
    "    \n",
    "input_data = \"aoc2022_data/aoc2022_4.txt\"\n",
    "lines = get_input_data(input_data)\n",
    "\n",
    "num_full_intersect = 0\n",
    "\n",
    "for item in lines:\n",
    "    items = [int(i) for i in re.split(',|-', item)]\n",
    "    if (items[0] >= items[2] and items[1] <= items[3]) or (items[0] <= items[2] and items[1] >= items[3]):\n",
    "        num_full_intersect += 1\n",
    "\n",
    "print(f\"{num_full_intersect} of the assignment pairs overlap fully the other.\")"
   ]
  },
  {
   "cell_type": "code",
   "execution_count": 39,
   "id": "ec55fa2f",
   "metadata": {},
   "outputs": [
    {
     "name": "stdout",
     "output_type": "stream",
     "text": [
      "In 893 of the assignment pairs have overlapped ranges.\n"
     ]
    }
   ],
   "source": [
    "# AoC 2022 - 4_2\n",
    "\n",
    "import re\n",
    "\n",
    "\n",
    "def get_input_data(in_file: str):\n",
    "    with open(in_file, 'r') as f_in:\n",
    "        return [_line.strip() for _line in f_in.readlines()]\n",
    "    \n",
    "    \n",
    "input_data = \"aoc2022_data/aoc2022_4.txt\"\n",
    "lines = get_input_data(input_data)\n",
    "\n",
    "num_full_intersect = 0\n",
    "\n",
    "for item in lines:\n",
    "    items = [int(i) for i in re.split(',|-', item)]\n",
    "    sections_1 = set(section for section in range(items[0], items[1] + 1))\n",
    "    sections_2 = set(section for section in range(items[2], items[3] + 1))\n",
    "    if sections_1.intersection(sections_2):\n",
    "        num_full_intersect += 1\n",
    "\n",
    "print(f\"In {num_full_intersect} of the assignment pairs have overlapped ranges.\")"
   ]
  }
 ],
 "metadata": {
  "kernelspec": {
   "display_name": "Python 3",
   "language": "python",
   "name": "python3"
  },
  "language_info": {
   "codemirror_mode": {
    "name": "ipython",
    "version": 3
   },
   "file_extension": ".py",
   "mimetype": "text/x-python",
   "name": "python",
   "nbconvert_exporter": "python",
   "pygments_lexer": "ipython3",
   "version": "3.8.10"
  }
 },
 "nbformat": 4,
 "nbformat_minor": 5
}
