{
 "cells": [
  {
   "cell_type": "code",
   "execution_count": 2,
   "id": "3f52b4c9",
   "metadata": {},
   "outputs": [
    {
     "name": "stdout",
     "output_type": "stream",
     "text": [
      "Elf 106 carrying 74711 calories.\n"
     ]
    }
   ],
   "source": [
    "# AoC 2022 - 1_1\n",
    "\n",
    "input_data = \"aoc2022_data/aoc2022_1.txt\"\n",
    "\n",
    "cal_max = 0\n",
    "elf_max = 0\n",
    "    \n",
    "with open(input_data, 'r') as f_in:\n",
    "    lines = f_in.read()\n",
    "    elves=lines.split('\\n\\n')\n",
    "    num_elves = len(elves)\n",
    "    for idx, elf in enumerate(elves):\n",
    "        elf = elf.split('\\n')\n",
    "        items = [int(item) for item in elf if item != '']        \n",
    "        cal_sum = sum(items)\n",
    "        if cal_sum > cal_max:\n",
    "            cal_max = cal_sum\n",
    "            elf_max = idx\n",
    "print(f\"Elf {elf_max} carrying {cal_max} calories.\")\n"
   ]
  },
  {
   "cell_type": "code",
   "execution_count": 4,
   "id": "b9c90e58",
   "metadata": {},
   "outputs": [
    {
     "name": "stdout",
     "output_type": "stream",
     "text": [
      "The top three elves carrying 209481 calories.\n"
     ]
    }
   ],
   "source": [
    "# AoC 2022 - 1_2\n",
    "\n",
    "input_data = \"aoc2022_data/aoc2022_1.txt\"\n",
    "\n",
    "cal_max = []\n",
    "    \n",
    "with open(input_data, 'r') as f_in:\n",
    "    lines = f_in.read()\n",
    "    elves=lines.split('\\n\\n')\n",
    "    num_elves = len(elves)\n",
    "    for idx, elf in enumerate(elves):\n",
    "        elf = elf.split('\\n')\n",
    "        items = [int(item) for item in elf if item != '']        \n",
    "        cal_sum = sum(items)\n",
    "        if len(cal_max) < 3:\n",
    "            cal_max.append(cal_sum)\n",
    "            cal_max = sorted(cal_max)\n",
    "        else:\n",
    "            if cal_sum > cal_max[0]:\n",
    "                cal_max = [cal_sum] + cal_max[1:]\n",
    "                cal_max = sorted(cal_max)\n",
    "print(f\"The top three elves carrying {sum(cal_max)} calories.\")\n"
   ]
  }
 ],
 "metadata": {
  "kernelspec": {
   "display_name": "Python 3",
   "language": "python",
   "name": "python3"
  },
  "language_info": {
   "codemirror_mode": {
    "name": "ipython",
    "version": 3
   },
   "file_extension": ".py",
   "mimetype": "text/x-python",
   "name": "python",
   "nbconvert_exporter": "python",
   "pygments_lexer": "ipython3",
   "version": "3.8.10"
  }
 },
 "nbformat": 4,
 "nbformat_minor": 5
}
