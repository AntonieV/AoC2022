{
 "cells": [
  {
   "cell_type": "code",
   "execution_count": 1,
   "id": "c6fb5fb2",
   "metadata": {},
   "outputs": [
    {
     "name": "stdout",
     "output_type": "stream",
     "text": [
      "Elf 106 carrying 74711 calories.\n"
     ]
    }
   ],
   "source": [
    "# https://adventofcode.com/2022/day/1\n",
    "# AoC 2022 - 1_1\n",
    "\n",
    "input_data = \"aoc2022_data/aoc2022_1.txt\"\n",
    "\n",
    "cal_max = 0\n",
    "elf_max = 0\n",
    "    \n",
    "with open(input_data, 'r') as f_in:\n",
    "    lines = f_in.read()\n",
    "    elves=lines.split('\\n\\n')\n",
    "    num_elves = len(elves)\n",
    "    for idx, elf in enumerate(elves):\n",
    "        elf = elf.split('\\n')\n",
    "        items = [int(item) for item in elf if item != '']        \n",
    "        cal_sum = sum(items)\n",
    "        if cal_sum > cal_max:\n",
    "            cal_max = cal_sum\n",
    "            elf_max = idx\n",
    "print(f\"Elf {elf_max} carrying {cal_max} calories.\")\n"
   ]
  },
  {
   "cell_type": "code",
   "execution_count": 2,
   "id": "c840483f",
   "metadata": {},
   "outputs": [
    {
     "name": "stdout",
     "output_type": "stream",
     "text": [
      "The top three elves carrying 209481 calories.\n"
     ]
    }
   ],
   "source": [
    "# AoC 2022 - 1_2\n",
    "\n",
    "input_data = \"aoc2022_data/aoc2022_1.txt\"\n",
    "\n",
    "cal_max = []\n",
    "    \n",
    "with open(input_data, 'r') as f_in:\n",
    "    lines = f_in.read()\n",
    "    elves=lines.split('\\n\\n')\n",
    "    num_elves = len(elves)\n",
    "    for idx, elf in enumerate(elves):\n",
    "        elf = elf.split('\\n')\n",
    "        items = [int(item) for item in elf if item != '']        \n",
    "        cal_sum = sum(items)\n",
    "        if len(cal_max) < 3:\n",
    "            cal_max.append(cal_sum)\n",
    "            cal_max = sorted(cal_max)\n",
    "        else:\n",
    "            if cal_sum > cal_max[0]:\n",
    "                cal_max = [cal_sum] + cal_max[1:]\n",
    "                cal_max = sorted(cal_max)\n",
    "print(f\"The top three elves carrying {sum(cal_max)} calories.\")\n"
   ]
  },
  {
   "cell_type": "code",
   "execution_count": 36,
   "id": "a18c0323",
   "metadata": {},
   "outputs": [
    {
     "name": "stdout",
     "output_type": "stream",
     "text": [
      "Total score: 15691\n"
     ]
    }
   ],
   "source": [
    "# https://adventofcode.com/2022/day/2\n",
    "# AoC 2022 - 2_1\n",
    "\n",
    "input_data = \"aoc2022_data/aoc2022_2.txt\"\n",
    "opponent = ['A', 'B', 'C']\n",
    "# rot0 = draw (rot0 at index = 0 -> idx 0 in round_outcome), \n",
    "# rot1 = win (rot1 at index = 1 in round_outcome) , \n",
    "# rot2 = loss (rot2 at index = 2 in round_outcome)\n",
    "self_alphabet = ['X', 'Y', 'Z']\n",
    "rotations = [0, 1, 2]\n",
    "round_outcome = [3, 6, 0]\n",
    "total_score = 0\n",
    "    \n",
    "with open(input_data, 'r') as f_in:\n",
    "    lines = f_in.readlines()\n",
    "    for line in lines: \n",
    "        line = line.strip('\\n').split(' ')    \n",
    "        opp_call = opponent.index(line[0])\n",
    "        for rot in rotations:\n",
    "            if line[1] == self_alphabet[(opp_call + rot) % len(self_alphabet)]:\n",
    "                res_round = round_outcome[rot]\n",
    "        res_shape = self_alphabet.index(line[1]) + 1\n",
    "        total_score += res_round + res_shape\n",
    "print(f\"Total score: {total_score}\")\n"
   ]
  },
  {
   "cell_type": "code",
   "execution_count": 40,
   "id": "d10e3ec5",
   "metadata": {},
   "outputs": [
    {
     "name": "stdout",
     "output_type": "stream",
     "text": [
      "Total score: 12989\n"
     ]
    }
   ],
   "source": [
    "# AoC 2022 - 2_2\n",
    "\n",
    "input_data = \"aoc2022_data/aoc2022_2.txt\"\n",
    "opponent = ['A', 'B', 'C']\n",
    "self_alphabet = ['A', 'B', 'C']\n",
    "# 'Y' = draw = rot0 -> index 0, 'Z' = win = rot1 -> index 1, 'X' = lose = rot2 -> index 2\n",
    "rotations = ['Y', 'Z', 'X']\n",
    "round_outcome = [3, 6, 0]\n",
    "total_score = 0\n",
    "\n",
    "with open(input_data, 'r') as f_in:\n",
    "    lines = f_in.readlines()\n",
    "    for line in lines: \n",
    "        line = line.strip('\\n').split(' ')    \n",
    "        opp_call = opponent.index(line[0])\n",
    "        rot = rotations.index(line[1])\n",
    "        res_round = round_outcome[rot]\n",
    "        select = self_alphabet[(opp_call + rot) % len(self_alphabet)]\n",
    "        res_shape = self_alphabet.index(select) + 1\n",
    "        total_score += res_round + res_shape\n",
    "print(f\"Total score: {total_score}\")\n"
   ]
  }
 ],
 "metadata": {
  "kernelspec": {
   "display_name": "Python 3",
   "language": "python",
   "name": "python3"
  },
  "language_info": {
   "codemirror_mode": {
    "name": "ipython",
    "version": 3
   },
   "file_extension": ".py",
   "mimetype": "text/x-python",
   "name": "python",
   "nbconvert_exporter": "python",
   "pygments_lexer": "ipython3",
   "version": "3.8.10"
  }
 },
 "nbformat": 4,
 "nbformat_minor": 5
}
